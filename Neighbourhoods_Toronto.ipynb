{
 "cells": [
  {
   "cell_type": "code",
   "execution_count": 1,
   "metadata": {},
   "outputs": [],
   "source": [
    "import pandas as pd\n",
    "import requests\n",
    "from bs4 import BeautifulSoup\n",
    "\n",
    "#to scrape the following Wikipedia page\n",
    "res = requests.get(\"https://en.wikipedia.org/wiki/List_of_postal_codes_of_Canada:_M\")\n",
    "soup = BeautifulSoup(res.content,'lxml')\n",
    "table = soup.find_all('table')[0] \n",
    "df = pd.read_html(str(table))"
   ]
  },
  {
   "cell_type": "code",
   "execution_count": 2,
   "metadata": {},
   "outputs": [],
   "source": [
    "#to obtain the data that is in the table of postal codes and to transform the data into a pandas dataframe\n",
    "df_Toronto = pd.DataFrame(df[0])\n",
    "df_Toronto.columns = ['Postcode', 'Borough', 'Neighbourhood']\n",
    "#print (df_Toronto.head())\n",
    "#print (df_Toronto.shape)\n",
    "\n",
    "#df_Toronto.to_csv(\"Toronto_wiki2.csv\")"
   ]
  },
  {
   "cell_type": "code",
   "execution_count": 3,
   "metadata": {},
   "outputs": [],
   "source": [
    "#Only process the cells that have an assigned borough. Ignore cells with a borough that is Not assigned.\n",
    "df_Toronto = df_Toronto[df_Toronto[\"Borough\"]!=\"Not assigned\"]\n",
    "#print (df_Toronto.head(20))\n",
    "#print (df_Toronto.shape)"
   ]
  },
  {
   "cell_type": "code",
   "execution_count": 4,
   "metadata": {},
   "outputs": [],
   "source": [
    "#More than one neighborhood can exist in one postal code area. \n",
    "#For example, in the table on the Wikipedia page, you will notice that M5A is listed twice and has two neighborhoods: \n",
    "#Harbourfront and Regent Park. \n",
    "#These two rows will be combined into one row with the neighborhoods separated with a comma as shown in row 11 in the above table.\n",
    "\n",
    "\n",
    "Toronto_grouped = df_Toronto.groupby(by=[\"Postcode\",\"Borough\"], sort=True, squeeze=True) #.set_index(\"Postcode\") #.groups[\"M3A\"]\n",
    "\n",
    "Toronto_grouped_1 = pd.DataFrame(columns=[\"Postcode\", \"Borough\", \"Neighbourhood\"])\n",
    "\n",
    "for postcode in Toronto_grouped.Postcode:\n",
    "    #print (\"postcode: \", postcode[0][0])\n",
    "    #print (\"Borough: \", postcode[0][1])\n",
    "    #print (df_Toronto[df_Toronto[\"Postcode\"]==postcode[0][0]][\"Neighbourhood\"].tolist())\n",
    "    Toronto_grouped_1 = Toronto_grouped_1.append({'Postcode': postcode[0][0],\n",
    "                                          'Borough': postcode[0][1],\n",
    "                                          'Neighbourhood': \", \".join(df_Toronto[df_Toronto[\"Postcode\"]==postcode[0][0]][\"Neighbourhood\"].tolist()),\n",
    "                                          }, ignore_index=True)\n"
   ]
  },
  {
   "cell_type": "code",
   "execution_count": 5,
   "metadata": {},
   "outputs": [
    {
     "data": {
      "text/html": [
       "<div>\n",
       "<style scoped>\n",
       "    .dataframe tbody tr th:only-of-type {\n",
       "        vertical-align: middle;\n",
       "    }\n",
       "\n",
       "    .dataframe tbody tr th {\n",
       "        vertical-align: top;\n",
       "    }\n",
       "\n",
       "    .dataframe thead th {\n",
       "        text-align: right;\n",
       "    }\n",
       "</style>\n",
       "<table border=\"1\" class=\"dataframe\">\n",
       "  <thead>\n",
       "    <tr style=\"text-align: right;\">\n",
       "      <th></th>\n",
       "      <th>Postcode</th>\n",
       "      <th>Borough</th>\n",
       "      <th>Neighbourhood</th>\n",
       "    </tr>\n",
       "  </thead>\n",
       "  <tbody>\n",
       "    <tr>\n",
       "      <th>53</th>\n",
       "      <td>M5A</td>\n",
       "      <td>Downtown Toronto</td>\n",
       "      <td>Harbourfront, Regent Park</td>\n",
       "    </tr>\n",
       "  </tbody>\n",
       "</table>\n",
       "</div>"
      ],
      "text/plain": [
       "   Postcode           Borough              Neighbourhood\n",
       "53      M5A  Downtown Toronto  Harbourfront, Regent Park"
      ]
     },
     "execution_count": 5,
     "metadata": {},
     "output_type": "execute_result"
    }
   ],
   "source": [
    "Toronto_grouped_1[Toronto_grouped_1[\"Postcode\"]==\"M5A\"]"
   ]
  },
  {
   "cell_type": "code",
   "execution_count": 6,
   "metadata": {},
   "outputs": [],
   "source": [
    "#If a cell has a borough but a Not assigned neighborhood, then the neighborhood will be the same as the borough. \n",
    "#So for the 9th cell in the table on the Wikipedia page, the value of the Borough and the Neighborhood columns will be Queen's Park.\n",
    "\n",
    "for index_num in Toronto_grouped_1[Toronto_grouped_1[\"Neighbourhood\"]==\"Not assigned\"].index.tolist():\n",
    "    Toronto_grouped_1.iloc[index_num][\"Neighbourhood\"] = Toronto_grouped_1.iloc[index_num][\"Borough\"]\n",
    "    #print (index_num)"
   ]
  },
  {
   "cell_type": "code",
   "execution_count": 7,
   "metadata": {},
   "outputs": [],
   "source": [
    "#Toronto_grouped_1.iloc[85]"
   ]
  },
  {
   "cell_type": "markdown",
   "metadata": {},
   "source": [
    "### Clean your Notebook and add Markdown cells to explain your work and any assumptions you are making.\n",
    "\n",
    "Step 1) Scrape the following Wikipedia page\n",
    "https://en.wikipedia.org/wiki/List_of_postal_codes_of_Canada:_M\n",
    "\n",
    "Step 2) Read the website content to find 'table' tag and return the first 'table' tag\n",
    "\n",
    "Step 3) Read the table tag content into a dataframe\n",
    "\n",
    "Step 4) Assign column name to the dataframe and filter those rows with \"Borough\" = \"Not assigned\"\n",
    "\n",
    "Step 5) Contruct another dataframe that grouping by \"Postcode\",\"Borough\" using Step 4's dataframe\n",
    "\n",
    "Step 6) Assign those rows with \"Neighbourhood\" = \"Not assigned\", update the \"Neighbourhood\" with \"Borough\" value."
   ]
  },
  {
   "cell_type": "code",
   "execution_count": 8,
   "metadata": {},
   "outputs": [
    {
     "data": {
      "text/plain": [
       "(103, 3)"
      ]
     },
     "execution_count": 8,
     "metadata": {},
     "output_type": "execute_result"
    }
   ],
   "source": [
    "#In the last cell of your notebook, use the .shape method to print the number of rows of your dataframe.\n",
    "Toronto_grouped_1.shape"
   ]
  }
 ],
 "metadata": {
  "kernelspec": {
   "display_name": "Python 3",
   "language": "python",
   "name": "python3"
  },
  "language_info": {
   "codemirror_mode": {
    "name": "ipython",
    "version": 3
   },
   "file_extension": ".py",
   "mimetype": "text/x-python",
   "name": "python",
   "nbconvert_exporter": "python",
   "pygments_lexer": "ipython3",
   "version": "3.6.4"
  }
 },
 "nbformat": 4,
 "nbformat_minor": 2
}
